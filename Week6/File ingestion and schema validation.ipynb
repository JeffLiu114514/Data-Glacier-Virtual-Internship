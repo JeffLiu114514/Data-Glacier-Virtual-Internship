{
 "cells": [
  {
   "cell_type": "code",
   "execution_count": 13,
   "metadata": {},
   "outputs": [],
   "source": [
    "import os\n",
    "import time\n",
    "import pandas as pd\n",
    "import modin.pandas as mdpd\n",
    "from dask import dataframe as dd"
   ]
  },
  {
   "attachments": {},
   "cell_type": "markdown",
   "metadata": {},
   "source": [
    "The dataset is from New York City Taxi Fare Prediction kaggle challenge and the size is 5.7GB"
   ]
  },
  {
   "cell_type": "code",
   "execution_count": 14,
   "metadata": {},
   "outputs": [
    {
     "data": {
      "text/plain": [
       "5697178298"
      ]
     },
     "execution_count": 14,
     "metadata": {},
     "output_type": "execute_result"
    }
   ],
   "source": [
    "#Size of the file\n",
    "os.path.getsize('E:/train.csv')"
   ]
  },
  {
   "attachments": {},
   "cell_type": "markdown",
   "metadata": {},
   "source": [
    "### Read with Dask"
   ]
  },
  {
   "cell_type": "code",
   "execution_count": 15,
   "metadata": {},
   "outputs": [
    {
     "name": "stdout",
     "output_type": "stream",
     "text": [
      "Read csv with dask:  0.017006874084472656 sec\n"
     ]
    }
   ],
   "source": [
    "start = time.time()\n",
    "dask_df = dd.read_csv('E:/train.csv')\n",
    "end = time.time()\n",
    "print(\"Read csv with dask: \",(end-start),\"sec\")"
   ]
  },
  {
   "attachments": {},
   "cell_type": "markdown",
   "metadata": {},
   "source": [
    "### Read with Pandas"
   ]
  },
  {
   "cell_type": "code",
   "execution_count": 16,
   "metadata": {},
   "outputs": [
    {
     "name": "stdout",
     "output_type": "stream",
     "text": [
      "Read csv with Modin:  105.38361668586731 sec\n"
     ]
    }
   ],
   "source": [
    "start = time.time()\n",
    "df = pd.read_csv('E:/train.csv')\n",
    "end = time.time()\n",
    "print(\"Read csv with Modin: \",(end-start),\"sec\")"
   ]
  },
  {
   "attachments": {},
   "cell_type": "markdown",
   "metadata": {},
   "source": [
    "Because Dask is faster, we will use Dask to read the csv file for future use\n",
    "\n",
    "### Show dataset info"
   ]
  },
  {
   "cell_type": "code",
   "execution_count": 17,
   "metadata": {},
   "outputs": [
    {
     "name": "stdout",
     "output_type": "stream",
     "text": [
      "<class 'dask.dataframe.core.DataFrame'>\n",
      "Columns: 8 entries, key to passenger_count\n",
      "dtypes: object(2), float64(5), int64(1)None\n",
      "There are  55423856  rows in the dataset\n",
      "There are  8  columns in the dataset\n"
     ]
    }
   ],
   "source": [
    "df = dd.read_csv('E:/train.csv',delimiter=',')\n",
    "print(df.info())\n",
    "print(\"There are \", len(df.index), \" rows in the dataset\")\n",
    "print(\"There are \", len(df.columns), \" columns in the dataset\")"
   ]
  },
  {
   "attachments": {},
   "cell_type": "markdown",
   "metadata": {},
   "source": [
    "### remove special character , white spaces"
   ]
  },
  {
   "cell_type": "code",
   "execution_count": 19,
   "metadata": {},
   "outputs": [
    {
     "name": "stdout",
     "output_type": "stream",
     "text": [
      "columns:  Index(['key', 'fare_amount', 'pickup_datetime', 'pickup_longitude',\n",
      "       'pickup_latitude', 'dropoff_longitude', 'dropoff_latitude',\n",
      "       'passenger_count'],\n",
      "      dtype='object')\n"
     ]
    },
    {
     "name": "stderr",
     "output_type": "stream",
     "text": [
      "FutureWarning: The default value of regex will change from True to False in a future version.\n"
     ]
    }
   ],
   "source": [
    "df.columns=df.columns.str.replace('[#,@,&]','')\n",
    "df.columns = df.columns.str.replace(' ', '')\n",
    "print(\"columns: \", df.columns)"
   ]
  },
  {
   "attachments": {},
   "cell_type": "markdown",
   "metadata": {},
   "source": [
    "### Save column info using yaml"
   ]
  },
  {
   "cell_type": "code",
   "execution_count": 20,
   "metadata": {},
   "outputs": [],
   "source": [
    "import yaml\n",
    "\n",
    "dict_file = [{'delimiter' : \",\"},\n",
    "{'columns' : ['key', 'fare_amount', 'pickup_datetime', 'pickup_longitude',\n",
    "       'pickup_latitude', 'dropoff_longitude', 'dropoff_latitude',\n",
    "       'passenger_count']}]\n",
    "\n",
    "with open(r'C:/Users/23566/OneDrive/桌面/Data-Glacier-Virtual-Internship/Week6/data.yaml', 'w') as file:\n",
    "    documents = yaml.dump(dict_file, file)"
   ]
  },
  {
   "attachments": {},
   "cell_type": "markdown",
   "metadata": {},
   "source": [
    "### Validate number of columns and column name of ingested file with YAML"
   ]
  },
  {
   "cell_type": "code",
   "execution_count": 25,
   "metadata": {},
   "outputs": [],
   "source": [
    "with open(r'C:/Users/23566/OneDrive/桌面/Data-Glacier-Virtual-Internship/Week6/data.yaml', 'r') as f:\n",
    "    columns = yaml.load(f, Loader=yaml.Loader)\n",
    "\n"
   ]
  },
  {
   "cell_type": "code",
   "execution_count": 29,
   "metadata": {},
   "outputs": [
    {
     "name": "stdout",
     "output_type": "stream",
     "text": [
      "The columns are:  ['key', 'fare_amount', 'pickup_datetime', 'pickup_longitude', 'pickup_latitude', 'dropoff_longitude', 'dropoff_latitude', 'passenger_count']\n",
      "There are  8  columns in the dataset\n"
     ]
    }
   ],
   "source": [
    "print(\"The columns are: \", columns[1]['columns'])\n",
    "print(\"There are \", len(columns[1]['columns']), \" columns in the dataset\")"
   ]
  },
  {
   "attachments": {},
   "cell_type": "markdown",
   "metadata": {},
   "source": [
    "The number of columns and column name are verified.\n",
    "\n",
    "### Write the file in pipe separated text file (|) in gz format"
   ]
  },
  {
   "cell_type": "code",
   "execution_count": 32,
   "metadata": {},
   "outputs": [
    {
     "data": {
      "text/plain": [
       "['c:\\\\Users\\\\23566\\\\OneDrive\\\\桌面\\\\Data-Glacier-Virtual-Internship\\\\Week6\\\\Train.csv.gz\\\\00.part',\n",
       " 'c:\\\\Users\\\\23566\\\\OneDrive\\\\桌面\\\\Data-Glacier-Virtual-Internship\\\\Week6\\\\Train.csv.gz\\\\01.part',\n",
       " 'c:\\\\Users\\\\23566\\\\OneDrive\\\\桌面\\\\Data-Glacier-Virtual-Internship\\\\Week6\\\\Train.csv.gz\\\\02.part',\n",
       " 'c:\\\\Users\\\\23566\\\\OneDrive\\\\桌面\\\\Data-Glacier-Virtual-Internship\\\\Week6\\\\Train.csv.gz\\\\03.part',\n",
       " 'c:\\\\Users\\\\23566\\\\OneDrive\\\\桌面\\\\Data-Glacier-Virtual-Internship\\\\Week6\\\\Train.csv.gz\\\\04.part',\n",
       " 'c:\\\\Users\\\\23566\\\\OneDrive\\\\桌面\\\\Data-Glacier-Virtual-Internship\\\\Week6\\\\Train.csv.gz\\\\05.part',\n",
       " 'c:\\\\Users\\\\23566\\\\OneDrive\\\\桌面\\\\Data-Glacier-Virtual-Internship\\\\Week6\\\\Train.csv.gz\\\\06.part',\n",
       " 'c:\\\\Users\\\\23566\\\\OneDrive\\\\桌面\\\\Data-Glacier-Virtual-Internship\\\\Week6\\\\Train.csv.gz\\\\07.part',\n",
       " 'c:\\\\Users\\\\23566\\\\OneDrive\\\\桌面\\\\Data-Glacier-Virtual-Internship\\\\Week6\\\\Train.csv.gz\\\\08.part',\n",
       " 'c:\\\\Users\\\\23566\\\\OneDrive\\\\桌面\\\\Data-Glacier-Virtual-Internship\\\\Week6\\\\Train.csv.gz\\\\09.part',\n",
       " 'c:\\\\Users\\\\23566\\\\OneDrive\\\\桌面\\\\Data-Glacier-Virtual-Internship\\\\Week6\\\\Train.csv.gz\\\\10.part',\n",
       " 'c:\\\\Users\\\\23566\\\\OneDrive\\\\桌面\\\\Data-Glacier-Virtual-Internship\\\\Week6\\\\Train.csv.gz\\\\11.part',\n",
       " 'c:\\\\Users\\\\23566\\\\OneDrive\\\\桌面\\\\Data-Glacier-Virtual-Internship\\\\Week6\\\\Train.csv.gz\\\\12.part',\n",
       " 'c:\\\\Users\\\\23566\\\\OneDrive\\\\桌面\\\\Data-Glacier-Virtual-Internship\\\\Week6\\\\Train.csv.gz\\\\13.part',\n",
       " 'c:\\\\Users\\\\23566\\\\OneDrive\\\\桌面\\\\Data-Glacier-Virtual-Internship\\\\Week6\\\\Train.csv.gz\\\\14.part',\n",
       " 'c:\\\\Users\\\\23566\\\\OneDrive\\\\桌面\\\\Data-Glacier-Virtual-Internship\\\\Week6\\\\Train.csv.gz\\\\15.part',\n",
       " 'c:\\\\Users\\\\23566\\\\OneDrive\\\\桌面\\\\Data-Glacier-Virtual-Internship\\\\Week6\\\\Train.csv.gz\\\\16.part',\n",
       " 'c:\\\\Users\\\\23566\\\\OneDrive\\\\桌面\\\\Data-Glacier-Virtual-Internship\\\\Week6\\\\Train.csv.gz\\\\17.part',\n",
       " 'c:\\\\Users\\\\23566\\\\OneDrive\\\\桌面\\\\Data-Glacier-Virtual-Internship\\\\Week6\\\\Train.csv.gz\\\\18.part',\n",
       " 'c:\\\\Users\\\\23566\\\\OneDrive\\\\桌面\\\\Data-Glacier-Virtual-Internship\\\\Week6\\\\Train.csv.gz\\\\19.part',\n",
       " 'c:\\\\Users\\\\23566\\\\OneDrive\\\\桌面\\\\Data-Glacier-Virtual-Internship\\\\Week6\\\\Train.csv.gz\\\\20.part',\n",
       " 'c:\\\\Users\\\\23566\\\\OneDrive\\\\桌面\\\\Data-Glacier-Virtual-Internship\\\\Week6\\\\Train.csv.gz\\\\21.part',\n",
       " 'c:\\\\Users\\\\23566\\\\OneDrive\\\\桌面\\\\Data-Glacier-Virtual-Internship\\\\Week6\\\\Train.csv.gz\\\\22.part',\n",
       " 'c:\\\\Users\\\\23566\\\\OneDrive\\\\桌面\\\\Data-Glacier-Virtual-Internship\\\\Week6\\\\Train.csv.gz\\\\23.part',\n",
       " 'c:\\\\Users\\\\23566\\\\OneDrive\\\\桌面\\\\Data-Glacier-Virtual-Internship\\\\Week6\\\\Train.csv.gz\\\\24.part',\n",
       " 'c:\\\\Users\\\\23566\\\\OneDrive\\\\桌面\\\\Data-Glacier-Virtual-Internship\\\\Week6\\\\Train.csv.gz\\\\25.part',\n",
       " 'c:\\\\Users\\\\23566\\\\OneDrive\\\\桌面\\\\Data-Glacier-Virtual-Internship\\\\Week6\\\\Train.csv.gz\\\\26.part',\n",
       " 'c:\\\\Users\\\\23566\\\\OneDrive\\\\桌面\\\\Data-Glacier-Virtual-Internship\\\\Week6\\\\Train.csv.gz\\\\27.part',\n",
       " 'c:\\\\Users\\\\23566\\\\OneDrive\\\\桌面\\\\Data-Glacier-Virtual-Internship\\\\Week6\\\\Train.csv.gz\\\\28.part',\n",
       " 'c:\\\\Users\\\\23566\\\\OneDrive\\\\桌面\\\\Data-Glacier-Virtual-Internship\\\\Week6\\\\Train.csv.gz\\\\29.part',\n",
       " 'c:\\\\Users\\\\23566\\\\OneDrive\\\\桌面\\\\Data-Glacier-Virtual-Internship\\\\Week6\\\\Train.csv.gz\\\\30.part',\n",
       " 'c:\\\\Users\\\\23566\\\\OneDrive\\\\桌面\\\\Data-Glacier-Virtual-Internship\\\\Week6\\\\Train.csv.gz\\\\31.part',\n",
       " 'c:\\\\Users\\\\23566\\\\OneDrive\\\\桌面\\\\Data-Glacier-Virtual-Internship\\\\Week6\\\\Train.csv.gz\\\\32.part',\n",
       " 'c:\\\\Users\\\\23566\\\\OneDrive\\\\桌面\\\\Data-Glacier-Virtual-Internship\\\\Week6\\\\Train.csv.gz\\\\33.part',\n",
       " 'c:\\\\Users\\\\23566\\\\OneDrive\\\\桌面\\\\Data-Glacier-Virtual-Internship\\\\Week6\\\\Train.csv.gz\\\\34.part',\n",
       " 'c:\\\\Users\\\\23566\\\\OneDrive\\\\桌面\\\\Data-Glacier-Virtual-Internship\\\\Week6\\\\Train.csv.gz\\\\35.part',\n",
       " 'c:\\\\Users\\\\23566\\\\OneDrive\\\\桌面\\\\Data-Glacier-Virtual-Internship\\\\Week6\\\\Train.csv.gz\\\\36.part',\n",
       " 'c:\\\\Users\\\\23566\\\\OneDrive\\\\桌面\\\\Data-Glacier-Virtual-Internship\\\\Week6\\\\Train.csv.gz\\\\37.part',\n",
       " 'c:\\\\Users\\\\23566\\\\OneDrive\\\\桌面\\\\Data-Glacier-Virtual-Internship\\\\Week6\\\\Train.csv.gz\\\\38.part',\n",
       " 'c:\\\\Users\\\\23566\\\\OneDrive\\\\桌面\\\\Data-Glacier-Virtual-Internship\\\\Week6\\\\Train.csv.gz\\\\39.part',\n",
       " 'c:\\\\Users\\\\23566\\\\OneDrive\\\\桌面\\\\Data-Glacier-Virtual-Internship\\\\Week6\\\\Train.csv.gz\\\\40.part',\n",
       " 'c:\\\\Users\\\\23566\\\\OneDrive\\\\桌面\\\\Data-Glacier-Virtual-Internship\\\\Week6\\\\Train.csv.gz\\\\41.part',\n",
       " 'c:\\\\Users\\\\23566\\\\OneDrive\\\\桌面\\\\Data-Glacier-Virtual-Internship\\\\Week6\\\\Train.csv.gz\\\\42.part',\n",
       " 'c:\\\\Users\\\\23566\\\\OneDrive\\\\桌面\\\\Data-Glacier-Virtual-Internship\\\\Week6\\\\Train.csv.gz\\\\43.part',\n",
       " 'c:\\\\Users\\\\23566\\\\OneDrive\\\\桌面\\\\Data-Glacier-Virtual-Internship\\\\Week6\\\\Train.csv.gz\\\\44.part',\n",
       " 'c:\\\\Users\\\\23566\\\\OneDrive\\\\桌面\\\\Data-Glacier-Virtual-Internship\\\\Week6\\\\Train.csv.gz\\\\45.part',\n",
       " 'c:\\\\Users\\\\23566\\\\OneDrive\\\\桌面\\\\Data-Glacier-Virtual-Internship\\\\Week6\\\\Train.csv.gz\\\\46.part',\n",
       " 'c:\\\\Users\\\\23566\\\\OneDrive\\\\桌面\\\\Data-Glacier-Virtual-Internship\\\\Week6\\\\Train.csv.gz\\\\47.part',\n",
       " 'c:\\\\Users\\\\23566\\\\OneDrive\\\\桌面\\\\Data-Glacier-Virtual-Internship\\\\Week6\\\\Train.csv.gz\\\\48.part',\n",
       " 'c:\\\\Users\\\\23566\\\\OneDrive\\\\桌面\\\\Data-Glacier-Virtual-Internship\\\\Week6\\\\Train.csv.gz\\\\49.part',\n",
       " 'c:\\\\Users\\\\23566\\\\OneDrive\\\\桌面\\\\Data-Glacier-Virtual-Internship\\\\Week6\\\\Train.csv.gz\\\\50.part',\n",
       " 'c:\\\\Users\\\\23566\\\\OneDrive\\\\桌面\\\\Data-Glacier-Virtual-Internship\\\\Week6\\\\Train.csv.gz\\\\51.part',\n",
       " 'c:\\\\Users\\\\23566\\\\OneDrive\\\\桌面\\\\Data-Glacier-Virtual-Internship\\\\Week6\\\\Train.csv.gz\\\\52.part',\n",
       " 'c:\\\\Users\\\\23566\\\\OneDrive\\\\桌面\\\\Data-Glacier-Virtual-Internship\\\\Week6\\\\Train.csv.gz\\\\53.part',\n",
       " 'c:\\\\Users\\\\23566\\\\OneDrive\\\\桌面\\\\Data-Glacier-Virtual-Internship\\\\Week6\\\\Train.csv.gz\\\\54.part',\n",
       " 'c:\\\\Users\\\\23566\\\\OneDrive\\\\桌面\\\\Data-Glacier-Virtual-Internship\\\\Week6\\\\Train.csv.gz\\\\55.part',\n",
       " 'c:\\\\Users\\\\23566\\\\OneDrive\\\\桌面\\\\Data-Glacier-Virtual-Internship\\\\Week6\\\\Train.csv.gz\\\\56.part',\n",
       " 'c:\\\\Users\\\\23566\\\\OneDrive\\\\桌面\\\\Data-Glacier-Virtual-Internship\\\\Week6\\\\Train.csv.gz\\\\57.part',\n",
       " 'c:\\\\Users\\\\23566\\\\OneDrive\\\\桌面\\\\Data-Glacier-Virtual-Internship\\\\Week6\\\\Train.csv.gz\\\\58.part',\n",
       " 'c:\\\\Users\\\\23566\\\\OneDrive\\\\桌面\\\\Data-Glacier-Virtual-Internship\\\\Week6\\\\Train.csv.gz\\\\59.part',\n",
       " 'c:\\\\Users\\\\23566\\\\OneDrive\\\\桌面\\\\Data-Glacier-Virtual-Internship\\\\Week6\\\\Train.csv.gz\\\\60.part',\n",
       " 'c:\\\\Users\\\\23566\\\\OneDrive\\\\桌面\\\\Data-Glacier-Virtual-Internship\\\\Week6\\\\Train.csv.gz\\\\61.part',\n",
       " 'c:\\\\Users\\\\23566\\\\OneDrive\\\\桌面\\\\Data-Glacier-Virtual-Internship\\\\Week6\\\\Train.csv.gz\\\\62.part',\n",
       " 'c:\\\\Users\\\\23566\\\\OneDrive\\\\桌面\\\\Data-Glacier-Virtual-Internship\\\\Week6\\\\Train.csv.gz\\\\63.part',\n",
       " 'c:\\\\Users\\\\23566\\\\OneDrive\\\\桌面\\\\Data-Glacier-Virtual-Internship\\\\Week6\\\\Train.csv.gz\\\\64.part',\n",
       " 'c:\\\\Users\\\\23566\\\\OneDrive\\\\桌面\\\\Data-Glacier-Virtual-Internship\\\\Week6\\\\Train.csv.gz\\\\65.part',\n",
       " 'c:\\\\Users\\\\23566\\\\OneDrive\\\\桌面\\\\Data-Glacier-Virtual-Internship\\\\Week6\\\\Train.csv.gz\\\\66.part',\n",
       " 'c:\\\\Users\\\\23566\\\\OneDrive\\\\桌面\\\\Data-Glacier-Virtual-Internship\\\\Week6\\\\Train.csv.gz\\\\67.part',\n",
       " 'c:\\\\Users\\\\23566\\\\OneDrive\\\\桌面\\\\Data-Glacier-Virtual-Internship\\\\Week6\\\\Train.csv.gz\\\\68.part',\n",
       " 'c:\\\\Users\\\\23566\\\\OneDrive\\\\桌面\\\\Data-Glacier-Virtual-Internship\\\\Week6\\\\Train.csv.gz\\\\69.part',\n",
       " 'c:\\\\Users\\\\23566\\\\OneDrive\\\\桌面\\\\Data-Glacier-Virtual-Internship\\\\Week6\\\\Train.csv.gz\\\\70.part',\n",
       " 'c:\\\\Users\\\\23566\\\\OneDrive\\\\桌面\\\\Data-Glacier-Virtual-Internship\\\\Week6\\\\Train.csv.gz\\\\71.part',\n",
       " 'c:\\\\Users\\\\23566\\\\OneDrive\\\\桌面\\\\Data-Glacier-Virtual-Internship\\\\Week6\\\\Train.csv.gz\\\\72.part',\n",
       " 'c:\\\\Users\\\\23566\\\\OneDrive\\\\桌面\\\\Data-Glacier-Virtual-Internship\\\\Week6\\\\Train.csv.gz\\\\73.part',\n",
       " 'c:\\\\Users\\\\23566\\\\OneDrive\\\\桌面\\\\Data-Glacier-Virtual-Internship\\\\Week6\\\\Train.csv.gz\\\\74.part',\n",
       " 'c:\\\\Users\\\\23566\\\\OneDrive\\\\桌面\\\\Data-Glacier-Virtual-Internship\\\\Week6\\\\Train.csv.gz\\\\75.part',\n",
       " 'c:\\\\Users\\\\23566\\\\OneDrive\\\\桌面\\\\Data-Glacier-Virtual-Internship\\\\Week6\\\\Train.csv.gz\\\\76.part',\n",
       " 'c:\\\\Users\\\\23566\\\\OneDrive\\\\桌面\\\\Data-Glacier-Virtual-Internship\\\\Week6\\\\Train.csv.gz\\\\77.part',\n",
       " 'c:\\\\Users\\\\23566\\\\OneDrive\\\\桌面\\\\Data-Glacier-Virtual-Internship\\\\Week6\\\\Train.csv.gz\\\\78.part',\n",
       " 'c:\\\\Users\\\\23566\\\\OneDrive\\\\桌面\\\\Data-Glacier-Virtual-Internship\\\\Week6\\\\Train.csv.gz\\\\79.part',\n",
       " 'c:\\\\Users\\\\23566\\\\OneDrive\\\\桌面\\\\Data-Glacier-Virtual-Internship\\\\Week6\\\\Train.csv.gz\\\\80.part',\n",
       " 'c:\\\\Users\\\\23566\\\\OneDrive\\\\桌面\\\\Data-Glacier-Virtual-Internship\\\\Week6\\\\Train.csv.gz\\\\81.part',\n",
       " 'c:\\\\Users\\\\23566\\\\OneDrive\\\\桌面\\\\Data-Glacier-Virtual-Internship\\\\Week6\\\\Train.csv.gz\\\\82.part',\n",
       " 'c:\\\\Users\\\\23566\\\\OneDrive\\\\桌面\\\\Data-Glacier-Virtual-Internship\\\\Week6\\\\Train.csv.gz\\\\83.part',\n",
       " 'c:\\\\Users\\\\23566\\\\OneDrive\\\\桌面\\\\Data-Glacier-Virtual-Internship\\\\Week6\\\\Train.csv.gz\\\\84.part',\n",
       " 'c:\\\\Users\\\\23566\\\\OneDrive\\\\桌面\\\\Data-Glacier-Virtual-Internship\\\\Week6\\\\Train.csv.gz\\\\85.part',\n",
       " 'c:\\\\Users\\\\23566\\\\OneDrive\\\\桌面\\\\Data-Glacier-Virtual-Internship\\\\Week6\\\\Train.csv.gz\\\\86.part',\n",
       " 'c:\\\\Users\\\\23566\\\\OneDrive\\\\桌面\\\\Data-Glacier-Virtual-Internship\\\\Week6\\\\Train.csv.gz\\\\87.part',\n",
       " 'c:\\\\Users\\\\23566\\\\OneDrive\\\\桌面\\\\Data-Glacier-Virtual-Internship\\\\Week6\\\\Train.csv.gz\\\\88.part']"
      ]
     },
     "execution_count": 32,
     "metadata": {},
     "output_type": "execute_result"
    }
   ],
   "source": [
    "import csv\n",
    "import gzip\n",
    "df.to_csv('Train.csv.gz',sep='|',header=True,index=False,quoting=csv.QUOTE_ALL,compression='gzip',quotechar='\"',doublequote=True,lineterminator='\\n')\n"
   ]
  },
  {
   "cell_type": "code",
   "execution_count": 34,
   "metadata": {},
   "outputs": [
    {
     "data": {
      "text/plain": [
       "40960"
      ]
     },
     "execution_count": 34,
     "metadata": {},
     "output_type": "execute_result"
    }
   ],
   "source": [
    "os.path.getsize('C:/Users/23566/OneDrive/桌面/Data-Glacier-Virtual-Internship/Week6/Train.csv.gz')"
   ]
  }
 ],
 "metadata": {
  "kernelspec": {
   "display_name": "Python 3",
   "language": "python",
   "name": "python3"
  },
  "language_info": {
   "codemirror_mode": {
    "name": "ipython",
    "version": 3
   },
   "file_extension": ".py",
   "mimetype": "text/x-python",
   "name": "python",
   "nbconvert_exporter": "python",
   "pygments_lexer": "ipython3",
   "version": "3.10.7"
  },
  "orig_nbformat": 4
 },
 "nbformat": 4,
 "nbformat_minor": 2
}
