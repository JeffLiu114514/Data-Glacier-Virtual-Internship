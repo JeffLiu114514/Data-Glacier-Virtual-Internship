{
 "cells": [
  {
   "cell_type": "markdown",
   "id": "796fa135",
   "metadata": {},
   "source": [
    "# G2M insight for Cab Investment firm\n",
    "## case study on 4 individual data sets\n",
    "### 1. preparation"
   ]
  },
  {
   "cell_type": "code",
   "execution_count": 16,
   "id": "91c26b29",
   "metadata": {},
   "outputs": [],
   "source": [
    "#import package and data\n",
    "import datetime\n",
    "import numpy as np\n",
    "import pandas as pd\n",
    "import matplotlib.pyplot as plt\n",
    "import seaborn as sns\n",
    "\n",
    "Cab_Data = pd.read_csv('./Data/Cab_Data.csv')\n",
    "Customer_ID =  pd.read_csv(\"./Data/Customer_ID.csv\")\n",
    "Transaction_ID = pd.read_csv(\"./Data/Transaction_ID.csv\")\n",
    "City = pd.read_csv(\"./Data/City.csv\")"
   ]
  },
  {
   "cell_type": "code",
   "execution_count": 5,
   "id": "33edb3cd",
   "metadata": {},
   "outputs": [
    {
     "name": "stdout",
     "output_type": "stream",
     "text": [
      "<class 'pandas.core.frame.DataFrame'>\n",
      "RangeIndex: 359392 entries, 0 to 359391\n",
      "Data columns (total 7 columns):\n",
      " #   Column          Non-Null Count   Dtype  \n",
      "---  ------          --------------   -----  \n",
      " 0   Transaction ID  359392 non-null  int64  \n",
      " 1   Date of Travel  359392 non-null  int64  \n",
      " 2   Company         359392 non-null  object \n",
      " 3   City            359392 non-null  object \n",
      " 4   KM Travelled    359392 non-null  float64\n",
      " 5   Price Charged   359392 non-null  float64\n",
      " 6   Cost of Trip    359392 non-null  float64\n",
      "dtypes: float64(3), int64(2), object(2)\n",
      "memory usage: 19.2+ MB\n",
      "None\n",
      "<class 'pandas.core.frame.DataFrame'>\n",
      "RangeIndex: 49171 entries, 0 to 49170\n",
      "Data columns (total 4 columns):\n",
      " #   Column              Non-Null Count  Dtype \n",
      "---  ------              --------------  ----- \n",
      " 0   Customer ID         49171 non-null  int64 \n",
      " 1   Gender              49171 non-null  object\n",
      " 2   Age                 49171 non-null  int64 \n",
      " 3   Income (USD/Month)  49171 non-null  int64 \n",
      "dtypes: int64(3), object(1)\n",
      "memory usage: 1.5+ MB\n",
      "None\n",
      "<class 'pandas.core.frame.DataFrame'>\n",
      "RangeIndex: 440098 entries, 0 to 440097\n",
      "Data columns (total 3 columns):\n",
      " #   Column          Non-Null Count   Dtype \n",
      "---  ------          --------------   ----- \n",
      " 0   Transaction ID  440098 non-null  int64 \n",
      " 1   Customer ID     440098 non-null  int64 \n",
      " 2   Payment_Mode    440098 non-null  object\n",
      "dtypes: int64(2), object(1)\n",
      "memory usage: 10.1+ MB\n",
      "None\n",
      "<class 'pandas.core.frame.DataFrame'>\n",
      "RangeIndex: 20 entries, 0 to 19\n",
      "Data columns (total 3 columns):\n",
      " #   Column      Non-Null Count  Dtype \n",
      "---  ------      --------------  ----- \n",
      " 0   City        20 non-null     object\n",
      " 1   Population  20 non-null     object\n",
      " 2   Users       20 non-null     object\n",
      "dtypes: object(3)\n",
      "memory usage: 608.0+ bytes\n",
      "None\n",
      "shape of Cab_Data (359392, 7)\n",
      "shape of Customer_ID (49171, 4)\n",
      "shape of Transaction_ID (440098, 3)\n",
      "shape of City Data (20, 3)\n"
     ]
    }
   ],
   "source": [
    "# show basic information\n",
    "print(Cab_Data.info())\n",
    "print(Customer_ID.info())\n",
    "print(Transaction_ID.info())\n",
    "print(City.info())\n",
    "print(\"shape of Cab_Data\", Cab_Data.shape)\n",
    "print(\"shape of Customer_ID\", Customer_ID.shape)\n",
    "print(\"shape of Transaction_ID\", Transaction_ID.shape)\n",
    "print(\"shape of City Data\", City.shape)"
   ]
  },
  {
   "cell_type": "markdown",
   "id": "f4acb93b",
   "metadata": {},
   "source": [
    "#### information above is enough for data intake report"
   ]
  },
  {
   "cell_type": "markdown",
   "id": "12e5e650",
   "metadata": {},
   "source": [
    "### with data base knowledge, I found connection between those relations\n",
    "### Cab_data can merge with City by City,\n",
    "### Cab_data can merge with Transaction_ID by transaction id,\n",
    "### and Transaction_ID can merge with Customer_ID by customer id"
   ]
  },
  {
   "cell_type": "code",
   "execution_count": 9,
   "id": "26bd0372",
   "metadata": {},
   "outputs": [
    {
     "data": {
      "text/html": [
       "<div>\n",
       "<style scoped>\n",
       "    .dataframe tbody tr th:only-of-type {\n",
       "        vertical-align: middle;\n",
       "    }\n",
       "\n",
       "    .dataframe tbody tr th {\n",
       "        vertical-align: top;\n",
       "    }\n",
       "\n",
       "    .dataframe thead th {\n",
       "        text-align: right;\n",
       "    }\n",
       "</style>\n",
       "<table border=\"1\" class=\"dataframe\">\n",
       "  <thead>\n",
       "    <tr style=\"text-align: right;\">\n",
       "      <th></th>\n",
       "      <th>Transaction ID</th>\n",
       "      <th>Date of Travel</th>\n",
       "      <th>Company</th>\n",
       "      <th>City</th>\n",
       "      <th>KM Travelled</th>\n",
       "      <th>Price Charged</th>\n",
       "      <th>Cost of Trip</th>\n",
       "      <th>Population</th>\n",
       "      <th>Users</th>\n",
       "      <th>Customer ID</th>\n",
       "      <th>Payment_Mode</th>\n",
       "      <th>Gender</th>\n",
       "      <th>Age</th>\n",
       "      <th>Income (USD/Month)</th>\n",
       "    </tr>\n",
       "  </thead>\n",
       "  <tbody>\n",
       "    <tr>\n",
       "      <th>0</th>\n",
       "      <td>10000011</td>\n",
       "      <td>42377</td>\n",
       "      <td>Pink Cab</td>\n",
       "      <td>ATLANTA GA</td>\n",
       "      <td>30.45</td>\n",
       "      <td>370.95</td>\n",
       "      <td>313.6350</td>\n",
       "      <td>814,885</td>\n",
       "      <td>24,701</td>\n",
       "      <td>29290</td>\n",
       "      <td>Card</td>\n",
       "      <td>Male</td>\n",
       "      <td>28</td>\n",
       "      <td>10813</td>\n",
       "    </tr>\n",
       "    <tr>\n",
       "      <th>1</th>\n",
       "      <td>10351127</td>\n",
       "      <td>43302</td>\n",
       "      <td>Yellow Cab</td>\n",
       "      <td>ATLANTA GA</td>\n",
       "      <td>26.19</td>\n",
       "      <td>598.70</td>\n",
       "      <td>317.4228</td>\n",
       "      <td>814,885</td>\n",
       "      <td>24,701</td>\n",
       "      <td>29290</td>\n",
       "      <td>Cash</td>\n",
       "      <td>Male</td>\n",
       "      <td>28</td>\n",
       "      <td>10813</td>\n",
       "    </tr>\n",
       "    <tr>\n",
       "      <th>2</th>\n",
       "      <td>10412921</td>\n",
       "      <td>43427</td>\n",
       "      <td>Yellow Cab</td>\n",
       "      <td>ATLANTA GA</td>\n",
       "      <td>42.55</td>\n",
       "      <td>792.05</td>\n",
       "      <td>597.4020</td>\n",
       "      <td>814,885</td>\n",
       "      <td>24,701</td>\n",
       "      <td>29290</td>\n",
       "      <td>Card</td>\n",
       "      <td>Male</td>\n",
       "      <td>28</td>\n",
       "      <td>10813</td>\n",
       "    </tr>\n",
       "    <tr>\n",
       "      <th>3</th>\n",
       "      <td>10000012</td>\n",
       "      <td>42375</td>\n",
       "      <td>Pink Cab</td>\n",
       "      <td>ATLANTA GA</td>\n",
       "      <td>28.62</td>\n",
       "      <td>358.52</td>\n",
       "      <td>334.8540</td>\n",
       "      <td>814,885</td>\n",
       "      <td>24,701</td>\n",
       "      <td>27703</td>\n",
       "      <td>Card</td>\n",
       "      <td>Male</td>\n",
       "      <td>27</td>\n",
       "      <td>9237</td>\n",
       "    </tr>\n",
       "    <tr>\n",
       "      <th>4</th>\n",
       "      <td>10320494</td>\n",
       "      <td>43211</td>\n",
       "      <td>Yellow Cab</td>\n",
       "      <td>ATLANTA GA</td>\n",
       "      <td>36.38</td>\n",
       "      <td>721.10</td>\n",
       "      <td>467.1192</td>\n",
       "      <td>814,885</td>\n",
       "      <td>24,701</td>\n",
       "      <td>27703</td>\n",
       "      <td>Card</td>\n",
       "      <td>Male</td>\n",
       "      <td>27</td>\n",
       "      <td>9237</td>\n",
       "    </tr>\n",
       "  </tbody>\n",
       "</table>\n",
       "</div>"
      ],
      "text/plain": [
       "   Transaction ID  Date of Travel     Company        City  KM Travelled  \\\n",
       "0        10000011           42377    Pink Cab  ATLANTA GA         30.45   \n",
       "1        10351127           43302  Yellow Cab  ATLANTA GA         26.19   \n",
       "2        10412921           43427  Yellow Cab  ATLANTA GA         42.55   \n",
       "3        10000012           42375    Pink Cab  ATLANTA GA         28.62   \n",
       "4        10320494           43211  Yellow Cab  ATLANTA GA         36.38   \n",
       "\n",
       "   Price Charged  Cost of Trip Population     Users  Customer ID Payment_Mode  \\\n",
       "0         370.95      313.6350   814,885    24,701         29290         Card   \n",
       "1         598.70      317.4228   814,885    24,701         29290         Cash   \n",
       "2         792.05      597.4020   814,885    24,701         29290         Card   \n",
       "3         358.52      334.8540   814,885    24,701         27703         Card   \n",
       "4         721.10      467.1192   814,885    24,701         27703         Card   \n",
       "\n",
       "  Gender  Age  Income (USD/Month)  \n",
       "0   Male   28               10813  \n",
       "1   Male   28               10813  \n",
       "2   Male   28               10813  \n",
       "3   Male   27                9237  \n",
       "4   Male   27                9237  "
      ]
     },
     "execution_count": 9,
     "metadata": {},
     "output_type": "execute_result"
    }
   ],
   "source": [
    "# Here we merge all data into one dataframe\n",
    "merged_df = Cab_Data.merge(City, on = 'City').merge(Transaction_ID, on= 'Transaction ID').merge(Customer_ID, on ='Customer ID')\n",
    "merged_df.head()"
   ]
  },
  {
   "cell_type": "code",
   "execution_count": 10,
   "id": "6e015870",
   "metadata": {},
   "outputs": [
    {
     "name": "stdout",
     "output_type": "stream",
     "text": [
      "number of null data: Transaction ID        0\n",
      "Date of Travel        0\n",
      "Company               0\n",
      "City                  0\n",
      "KM Travelled          0\n",
      "Price Charged         0\n",
      "Cost of Trip          0\n",
      "Population            0\n",
      "Users                 0\n",
      "Customer ID           0\n",
      "Payment_Mode          0\n",
      "Gender                0\n",
      "Age                   0\n",
      "Income (USD/Month)    0\n",
      "dtype: int64\n"
     ]
    }
   ],
   "source": [
    "# check null value\n",
    "print(\"number of null data: {}\".format(merged_df.isnull().sum()))"
   ]
  },
  {
   "cell_type": "markdown",
   "id": "129c313a",
   "metadata": {},
   "source": [
    "### 2. investigate the data set"
   ]
  },
  {
   "cell_type": "code",
   "execution_count": 21,
   "id": "bd77db27",
   "metadata": {},
   "outputs": [
    {
     "name": "stderr",
     "output_type": "stream",
     "text": [
      "C:\\Users\\23566\\AppData\\Local\\Temp\\ipykernel_10780\\712612077.py:1: FutureWarning: The default value of numeric_only in DataFrame.corr is deprecated. In a future version, it will default to False. Select only valid columns or specify the value of numeric_only to silence this warning.\n",
      "  corr = merged_df.corr()\n"
     ]
    },
    {
     "data": {
      "text/html": [
       "<div>\n",
       "<style scoped>\n",
       "    .dataframe tbody tr th:only-of-type {\n",
       "        vertical-align: middle;\n",
       "    }\n",
       "\n",
       "    .dataframe tbody tr th {\n",
       "        vertical-align: top;\n",
       "    }\n",
       "\n",
       "    .dataframe thead th {\n",
       "        text-align: right;\n",
       "    }\n",
       "</style>\n",
       "<table border=\"1\" class=\"dataframe\">\n",
       "  <thead>\n",
       "    <tr style=\"text-align: right;\">\n",
       "      <th></th>\n",
       "      <th>Transaction ID</th>\n",
       "      <th>Date of Travel</th>\n",
       "      <th>KM Travelled</th>\n",
       "      <th>Price Charged</th>\n",
       "      <th>Cost of Trip</th>\n",
       "      <th>Customer ID</th>\n",
       "      <th>Age</th>\n",
       "      <th>Income (USD/Month)</th>\n",
       "    </tr>\n",
       "  </thead>\n",
       "  <tbody>\n",
       "    <tr>\n",
       "      <th>Transaction ID</th>\n",
       "      <td>1.000000</td>\n",
       "      <td>0.993030</td>\n",
       "      <td>-0.001429</td>\n",
       "      <td>-0.052902</td>\n",
       "      <td>-0.003462</td>\n",
       "      <td>-0.016912</td>\n",
       "      <td>-0.001267</td>\n",
       "      <td>-0.001570</td>\n",
       "    </tr>\n",
       "    <tr>\n",
       "      <th>Date of Travel</th>\n",
       "      <td>0.993030</td>\n",
       "      <td>1.000000</td>\n",
       "      <td>-0.001621</td>\n",
       "      <td>-0.055559</td>\n",
       "      <td>-0.004484</td>\n",
       "      <td>-0.017653</td>\n",
       "      <td>-0.001346</td>\n",
       "      <td>-0.001368</td>\n",
       "    </tr>\n",
       "    <tr>\n",
       "      <th>KM Travelled</th>\n",
       "      <td>-0.001429</td>\n",
       "      <td>-0.001621</td>\n",
       "      <td>1.000000</td>\n",
       "      <td>0.835753</td>\n",
       "      <td>0.981848</td>\n",
       "      <td>0.000389</td>\n",
       "      <td>-0.000369</td>\n",
       "      <td>-0.000544</td>\n",
       "    </tr>\n",
       "    <tr>\n",
       "      <th>Price Charged</th>\n",
       "      <td>-0.052902</td>\n",
       "      <td>-0.055559</td>\n",
       "      <td>0.835753</td>\n",
       "      <td>1.000000</td>\n",
       "      <td>0.859812</td>\n",
       "      <td>-0.177324</td>\n",
       "      <td>-0.003084</td>\n",
       "      <td>0.003228</td>\n",
       "    </tr>\n",
       "    <tr>\n",
       "      <th>Cost of Trip</th>\n",
       "      <td>-0.003462</td>\n",
       "      <td>-0.004484</td>\n",
       "      <td>0.981848</td>\n",
       "      <td>0.859812</td>\n",
       "      <td>1.000000</td>\n",
       "      <td>0.003077</td>\n",
       "      <td>-0.000189</td>\n",
       "      <td>-0.000633</td>\n",
       "    </tr>\n",
       "    <tr>\n",
       "      <th>Customer ID</th>\n",
       "      <td>-0.016912</td>\n",
       "      <td>-0.017653</td>\n",
       "      <td>0.000389</td>\n",
       "      <td>-0.177324</td>\n",
       "      <td>0.003077</td>\n",
       "      <td>1.000000</td>\n",
       "      <td>-0.004735</td>\n",
       "      <td>-0.013608</td>\n",
       "    </tr>\n",
       "    <tr>\n",
       "      <th>Age</th>\n",
       "      <td>-0.001267</td>\n",
       "      <td>-0.001346</td>\n",
       "      <td>-0.000369</td>\n",
       "      <td>-0.003084</td>\n",
       "      <td>-0.000189</td>\n",
       "      <td>-0.004735</td>\n",
       "      <td>1.000000</td>\n",
       "      <td>0.003907</td>\n",
       "    </tr>\n",
       "    <tr>\n",
       "      <th>Income (USD/Month)</th>\n",
       "      <td>-0.001570</td>\n",
       "      <td>-0.001368</td>\n",
       "      <td>-0.000544</td>\n",
       "      <td>0.003228</td>\n",
       "      <td>-0.000633</td>\n",
       "      <td>-0.013608</td>\n",
       "      <td>0.003907</td>\n",
       "      <td>1.000000</td>\n",
       "    </tr>\n",
       "  </tbody>\n",
       "</table>\n",
       "</div>"
      ],
      "text/plain": [
       "                    Transaction ID  Date of Travel  KM Travelled  \\\n",
       "Transaction ID            1.000000        0.993030     -0.001429   \n",
       "Date of Travel            0.993030        1.000000     -0.001621   \n",
       "KM Travelled             -0.001429       -0.001621      1.000000   \n",
       "Price Charged            -0.052902       -0.055559      0.835753   \n",
       "Cost of Trip             -0.003462       -0.004484      0.981848   \n",
       "Customer ID              -0.016912       -0.017653      0.000389   \n",
       "Age                      -0.001267       -0.001346     -0.000369   \n",
       "Income (USD/Month)       -0.001570       -0.001368     -0.000544   \n",
       "\n",
       "                    Price Charged  Cost of Trip  Customer ID       Age  \\\n",
       "Transaction ID          -0.052902     -0.003462    -0.016912 -0.001267   \n",
       "Date of Travel          -0.055559     -0.004484    -0.017653 -0.001346   \n",
       "KM Travelled             0.835753      0.981848     0.000389 -0.000369   \n",
       "Price Charged            1.000000      0.859812    -0.177324 -0.003084   \n",
       "Cost of Trip             0.859812      1.000000     0.003077 -0.000189   \n",
       "Customer ID             -0.177324      0.003077     1.000000 -0.004735   \n",
       "Age                     -0.003084     -0.000189    -0.004735  1.000000   \n",
       "Income (USD/Month)       0.003228     -0.000633    -0.013608  0.003907   \n",
       "\n",
       "                    Income (USD/Month)  \n",
       "Transaction ID               -0.001570  \n",
       "Date of Travel               -0.001368  \n",
       "KM Travelled                 -0.000544  \n",
       "Price Charged                 0.003228  \n",
       "Cost of Trip                 -0.000633  \n",
       "Customer ID                  -0.013608  \n",
       "Age                           0.003907  \n",
       "Income (USD/Month)            1.000000  "
      ]
     },
     "execution_count": 21,
     "metadata": {},
     "output_type": "execute_result"
    }
   ],
   "source": [
    "corr = merged_df.corr()\n",
    "corr"
   ]
  },
  {
   "cell_type": "code",
   "execution_count": 22,
   "id": "eebc75b1",
   "metadata": {},
   "outputs": [
    {
     "name": "stderr",
     "output_type": "stream",
     "text": [
      "C:\\Users\\23566\\AppData\\Local\\Temp\\ipykernel_10780\\3214239663.py:2: FutureWarning: The default value of numeric_only in DataFrame.corr is deprecated. In a future version, it will default to False. Select only valid columns or specify the value of numeric_only to silence this warning.\n",
      "  plt.matshow(merged_df.corr(), fignum=f.number)\n"
     ]
    },
    {
     "data": {
      "image/png": "[encoded data removed]",
      "text/plain": [
       "<Figure size 1600x900 with 2 Axes>"
      ]
     },
     "metadata": {},
     "output_type": "display_data"
    }
   ],
   "source": [
    "f = plt.figure(figsize=(16, 9))\n",
    "plt.matshow(merged_df.corr(), fignum=f.number)\n",
    "plt.title('Correlation Matrix', fontsize=16)\n",
    "cb = plt.colorbar()\n",
    "cb.ax.tick_params(labelsize=14)\n",
    "plt.show()"
   ]
  },
  {
   "cell_type": "code",
   "execution_count": 23,
   "id": "89e83360",
   "metadata": {},
   "outputs": [
    {
     "name": "stderr",
     "output_type": "stream",
     "text": [
      "C:\\Users\\23566\\AppData\\Local\\Temp\\ipykernel_10780\\2691473918.py:1: FutureWarning: The default value of numeric_only in DataFrame.corr is deprecated. In a future version, it will default to False. Select only valid columns or specify the value of numeric_only to silence this warning.\n",
      "  corr = merged_df.corr()\n"
     ]
    },
    {
     "data": {
      "text/plain": [
       "<AxesSubplot: >"
      ]
     },
     "execution_count": 23,
     "metadata": {},
     "output_type": "execute_result"
    },
    {
     "data": {
      "image/png": "[encoded data removed]",
      "text/plain": [
       "<Figure size 640x480 with 2 Axes>"
      ]
     },
     "metadata": {},
     "output_type": "display_data"
    }
   ],
   "source": [
    "corr = merged_df.corr()\n",
    "matrix = np.triu(corr)\n",
    "sns.heatmap(corr, \n",
    "            mask = matrix,\n",
    "            cmap = 'rainbow', annot = True,\n",
    "            xticklabels=corr.columns.values,\n",
    "            yticklabels=corr.columns.values)"
   ]
  },
  {
   "cell_type": "markdown",
   "id": "47655bd4",
   "metadata": {},
   "source": [
    "#### Now four groups of correlation reveal themselves:\n",
    "1. Date of travel v.s. Transaction ID\n",
    "2. Price charged v.s. KM Travelled\n",
    "3. Cost of Trip v.s. KM Travelled\n",
    "4. Cost of trip v.s. Price charged\n",
    "The 2, 3, 4 correlations are a group among which as every category is strongly correlated to each other.\n",
    "Therefore, I summarize two findings from the correlation investigation:\n",
    "#### Date of travel v.s. Transaction ID\n",
    "#### Price charged v.s. KM Travelled v.s. Cost of Trip\n",
    "\n",
    "### 3. EDA and Data transformation\n",
    "#### 3.1 company"
   ]
  },
  {
   "cell_type": "code",
   "execution_count": 72,
   "id": "79610f42",
   "metadata": {},
   "outputs": [
    {
     "data": {
      "text/plain": [
       "False"
      ]
     },
     "execution_count": 72,
     "metadata": {},
     "output_type": "execute_result"
    }
   ],
   "source": [
    "from pandas.api.types import is_numeric_dtype\n",
    "is_numeric_dtype(merged_df['Users'])"
   ]
  },
  {
   "cell_type": "code",
   "execution_count": 82,
   "id": "fa0af7a0",
   "metadata": {},
   "outputs": [
    {
     "data": {
      "image/png": "[encoded data removed]",
      "text/plain": [
       "<Figure size 1000x700 with 1 Axes>"
      ]
     },
     "metadata": {},
     "output_type": "display_data"
    }
   ],
   "source": [
    "# ensure numeric\n",
    "company = merged_df\n",
    "company['Company'].replace(['Pink Cab', 'Yellow Cab'],\n",
    "                        [0, 1], inplace=True)\n",
    "# delete spaces and , in company strings\n",
    "company['Users'] = pd.to_numeric(company['Users'].str.strip().str.replace(',', '').astype(float))\n",
    "user = company.groupby('Company').Users\n",
    "user = user.mean()\n",
    "labs = user.index\n",
    "vals = user.values\n",
    "figp, axp = plt.subplots(figsize=(10,7))\n",
    "axp.pie(vals , labels=labs, autopct='%1.1f%%',shadow=True, startangle=90,)\n",
    "axp.axis('equal')\n",
    "\n",
    "plt.title('Price Charged per Gender for Yellow Cab')\n",
    "plt.show()\n"
   ]
  },
  {
   "cell_type": "markdown",
   "id": "5bf9aec6",
   "metadata": {},
   "source": [
    "##### 3.x transform data by adding profit column\n",
    "The most obvious and important transformation on the dataset should be the profit of each travel. It would be essential for XYZ to estimate overall profits by gaining information of the profits of individual travels."
   ]
  },
  {
   "cell_type": "code",
   "execution_count": 27,
   "id": "ccaf253c",
   "metadata": {},
   "outputs": [
    {
     "data": {
      "text/html": [
       "<div>\n",
       "<style scoped>\n",
       "    .dataframe tbody tr th:only-of-type {\n",
       "        vertical-align: middle;\n",
       "    }\n",
       "\n",
       "    .dataframe tbody tr th {\n",
       "        vertical-align: top;\n",
       "    }\n",
       "\n",
       "    .dataframe thead th {\n",
       "        text-align: right;\n",
       "    }\n",
       "</style>\n",
       "<table border=\"1\" class=\"dataframe\">\n",
       "  <thead>\n",
       "    <tr style=\"text-align: right;\">\n",
       "      <th></th>\n",
       "      <th>Transaction ID</th>\n",
       "      <th>Date of Travel</th>\n",
       "      <th>Company</th>\n",
       "      <th>City</th>\n",
       "      <th>KM Travelled</th>\n",
       "      <th>Price Charged</th>\n",
       "      <th>Cost of Trip</th>\n",
       "      <th>Population</th>\n",
       "      <th>Users</th>\n",
       "      <th>Customer ID</th>\n",
       "      <th>Payment_Mode</th>\n",
       "      <th>Gender</th>\n",
       "      <th>Age</th>\n",
       "      <th>Income (USD/Month)</th>\n",
       "      <th>Profit</th>\n",
       "    </tr>\n",
       "  </thead>\n",
       "  <tbody>\n",
       "    <tr>\n",
       "      <th>0</th>\n",
       "      <td>10000011</td>\n",
       "      <td>42377</td>\n",
       "      <td>Pink Cab</td>\n",
       "      <td>ATLANTA GA</td>\n",
       "      <td>30.45</td>\n",
       "      <td>370.95</td>\n",
       "      <td>313.6350</td>\n",
       "      <td>814,885</td>\n",
       "      <td>24,701</td>\n",
       "      <td>29290</td>\n",
       "      <td>Card</td>\n",
       "      <td>Male</td>\n",
       "      <td>28</td>\n",
       "      <td>10813</td>\n",
       "      <td>57.3150</td>\n",
       "    </tr>\n",
       "    <tr>\n",
       "      <th>1</th>\n",
       "      <td>10351127</td>\n",
       "      <td>43302</td>\n",
       "      <td>Yellow Cab</td>\n",
       "      <td>ATLANTA GA</td>\n",
       "      <td>26.19</td>\n",
       "      <td>598.70</td>\n",
       "      <td>317.4228</td>\n",
       "      <td>814,885</td>\n",
       "      <td>24,701</td>\n",
       "      <td>29290</td>\n",
       "      <td>Cash</td>\n",
       "      <td>Male</td>\n",
       "      <td>28</td>\n",
       "      <td>10813</td>\n",
       "      <td>281.2772</td>\n",
       "    </tr>\n",
       "    <tr>\n",
       "      <th>2</th>\n",
       "      <td>10412921</td>\n",
       "      <td>43427</td>\n",
       "      <td>Yellow Cab</td>\n",
       "      <td>ATLANTA GA</td>\n",
       "      <td>42.55</td>\n",
       "      <td>792.05</td>\n",
       "      <td>597.4020</td>\n",
       "      <td>814,885</td>\n",
       "      <td>24,701</td>\n",
       "      <td>29290</td>\n",
       "      <td>Card</td>\n",
       "      <td>Male</td>\n",
       "      <td>28</td>\n",
       "      <td>10813</td>\n",
       "      <td>194.6480</td>\n",
       "    </tr>\n",
       "    <tr>\n",
       "      <th>3</th>\n",
       "      <td>10000012</td>\n",
       "      <td>42375</td>\n",
       "      <td>Pink Cab</td>\n",
       "      <td>ATLANTA GA</td>\n",
       "      <td>28.62</td>\n",
       "      <td>358.52</td>\n",
       "      <td>334.8540</td>\n",
       "      <td>814,885</td>\n",
       "      <td>24,701</td>\n",
       "      <td>27703</td>\n",
       "      <td>Card</td>\n",
       "      <td>Male</td>\n",
       "      <td>27</td>\n",
       "      <td>9237</td>\n",
       "      <td>23.6660</td>\n",
       "    </tr>\n",
       "    <tr>\n",
       "      <th>4</th>\n",
       "      <td>10320494</td>\n",
       "      <td>43211</td>\n",
       "      <td>Yellow Cab</td>\n",
       "      <td>ATLANTA GA</td>\n",
       "      <td>36.38</td>\n",
       "      <td>721.10</td>\n",
       "      <td>467.1192</td>\n",
       "      <td>814,885</td>\n",
       "      <td>24,701</td>\n",
       "      <td>27703</td>\n",
       "      <td>Card</td>\n",
       "      <td>Male</td>\n",
       "      <td>27</td>\n",
       "      <td>9237</td>\n",
       "      <td>253.9808</td>\n",
       "    </tr>\n",
       "  </tbody>\n",
       "</table>\n",
       "</div>"
      ],
      "text/plain": [
       "   Transaction ID  Date of Travel     Company        City  KM Travelled  \\\n",
       "0        10000011           42377    Pink Cab  ATLANTA GA         30.45   \n",
       "1        10351127           43302  Yellow Cab  ATLANTA GA         26.19   \n",
       "2        10412921           43427  Yellow Cab  ATLANTA GA         42.55   \n",
       "3        10000012           42375    Pink Cab  ATLANTA GA         28.62   \n",
       "4        10320494           43211  Yellow Cab  ATLANTA GA         36.38   \n",
       "\n",
       "   Price Charged  Cost of Trip Population     Users  Customer ID Payment_Mode  \\\n",
       "0         370.95      313.6350   814,885    24,701         29290         Card   \n",
       "1         598.70      317.4228   814,885    24,701         29290         Cash   \n",
       "2         792.05      597.4020   814,885    24,701         29290         Card   \n",
       "3         358.52      334.8540   814,885    24,701         27703         Card   \n",
       "4         721.10      467.1192   814,885    24,701         27703         Card   \n",
       "\n",
       "  Gender  Age  Income (USD/Month)    Profit  \n",
       "0   Male   28               10813   57.3150  \n",
       "1   Male   28               10813  281.2772  \n",
       "2   Male   28               10813  194.6480  \n",
       "3   Male   27                9237   23.6660  \n",
       "4   Male   27                9237  253.9808  "
      ]
     },
     "execution_count": 27,
     "metadata": {},
     "output_type": "execute_result"
    }
   ],
   "source": [
    "merged_df['Profit'] = merged_df['Price Charged'] - merged_df['Cost of Trip']\n",
    "merged_df.head()"
   ]
  },
  {
   "cell_type": "markdown",
   "id": "5c663625",
   "metadata": {},
   "source": [
    "### 4. Hypothesis"
   ]
  },
  {
   "cell_type": "code",
   "execution_count": 32,
   "id": "ed6a79e8",
   "metadata": {},
   "outputs": [],
   "source": [
    "from scipy import stats\n",
    "def hypothesis_test(dataA, dataB):\n",
    "    _, p_value = stats.ttest_ind(dataA.values, dataB.values, equal_var=True)\n",
    "    print('P value is ', p_value)\n",
    "    if(p_value<0.05):\n",
    "        print('We accept alternative hypothesis (H1)')\n",
    "    else:\n",
    "        print('We accept null hypothesis (H0)')"
   ]
  },
  {
   "cell_type": "markdown",
   "id": "84bebe79",
   "metadata": {},
   "source": [
    "#### 4.1 Hypothesis1: will the profits be different for different genders?\n",
    "##### H0: The profits will not be different for genders.\n",
    "##### H1: The profits will be different for genders."
   ]
  },
  {
   "cell_type": "code",
   "execution_count": 41,
   "id": "2aa797fa",
   "metadata": {},
   "outputs": [
    {
     "name": "stdout",
     "output_type": "stream",
     "text": [
      "P value is  5.921884821326977e-37\n",
      "We accept alternative hypothesis (H1)\n"
     ]
    }
   ],
   "source": [
    "dataA = merged_df[(merged_df.Gender=='Male')].groupby('Transaction ID').Profit.mean()\n",
    "#dataA_ = merged_df[(merged_df.Gender=='Male')].groupby('Transaction ID').Profit.mean()\n",
    "#dataA__ = merged_df[(merged_df.Gender=='Male')&(merged_df.Company=='Yellow Cab')].groupby('Transaction ID').Profit.mean()\n",
    "#print(dataA.shape[0], dataA_.shape[0], dataA__.shape[0])\n",
    "dataB= merged_df[(merged_df.Gender=='Female')].groupby('Transaction ID').Profit.mean()\n",
    "hypothesis_test(dataA, dataB)"
   ]
  },
  {
   "cell_type": "markdown",
   "id": "c7082650",
   "metadata": {},
   "source": [
    "We can see that the profits are indeed different for two genders. Is it because both firms employ different price strategies for different genders, or is one company's strategy dominating the result?\n",
    "#### 4.1.1 Will the test results for hypotheses 1 be different for two cab companies?\n",
    "Test on Yellow Cab"
   ]
  },
  {
   "cell_type": "code",
   "execution_count": 42,
   "id": "69bcfa03",
   "metadata": {},
   "outputs": [
    {
     "name": "stdout",
     "output_type": "stream",
     "text": [
      "P value is  6.060473042494056e-25\n",
      "We accept alternative hypothesis (H1)\n"
     ]
    }
   ],
   "source": [
    "dataA = merged_df[(merged_df.Gender=='Male')&(merged_df.Company=='Yellow Cab')].groupby('Transaction ID').Profit.mean()\n",
    "dataB = merged_df[(merged_df.Gender=='Female')&(merged_df.Company=='Yellow Cab')].groupby('Transaction ID').Profit.mean()\n",
    "hypothesis_test(dataA, dataB)"
   ]
  },
  {
   "cell_type": "markdown",
   "id": "1143ce3b",
   "metadata": {},
   "source": [
    "The profits earned by yellow cab are different for two genders.\n",
    "Now test on Pink Cab"
   ]
  },
  {
   "cell_type": "code",
   "execution_count": 43,
   "id": "70b8a9be",
   "metadata": {},
   "outputs": [
    {
     "name": "stdout",
     "output_type": "stream",
     "text": [
      "P value is  0.115153059004258\n",
      "We accept null hypothesis (H0)\n"
     ]
    }
   ],
   "source": [
    "dataA = merged_df[(merged_df.Gender=='Male')&(merged_df.Company=='Pink Cab')].groupby('Transaction ID').Profit.mean()\n",
    "dataB = merged_df[(merged_df.Gender=='Female')&(merged_df.Company=='Pink Cab')].groupby('Transaction ID').Profit.mean()\n",
    "hypothesis_test(dataA, dataB)"
   ]
  },
  {
   "cell_type": "markdown",
   "id": "1d7d712b",
   "metadata": {},
   "source": [
    "The profits earned by yellow cab are not significantly different for two genders. \n",
    "#### Through 4.1, we found out different strategies of two companies on different genders.\n",
    "####\n",
    "#### 4.2 Hypothesis2: will the profits be different for different payment modes?\n",
    "##### H0: The profits will not be different for payment modes.\n",
    "##### H1: The profits will be different for payment modes."
   ]
  },
  {
   "cell_type": "code",
   "execution_count": 83,
   "id": "dd56393d",
   "metadata": {},
   "outputs": [
    {
     "name": "stdout",
     "output_type": "stream",
     "text": [
      "P value is  0.4454195660215633\n",
      "We accept null hypothesis (H0)\n"
     ]
    }
   ],
   "source": [
    "dataA = merged_df[(merged_df.Payment_Mode=='Card')].groupby('Transaction ID').Profit.mean()\n",
    "dataB= merged_df[(merged_df.Payment_Mode=='Cash')].groupby('Transaction ID').Profit.mean()\n",
    "hypothesis_test(dataA, dataB)"
   ]
  },
  {
   "cell_type": "markdown",
   "id": "f2f5d200",
   "metadata": {},
   "source": [
    "We can see that the profits are not significantly different for two payment modes."
   ]
  },
  {
   "cell_type": "code",
   "execution_count": null,
   "id": "c7f18047",
   "metadata": {},
   "outputs": [],
   "source": []
  }
 ],
 "metadata": {
  "kernelspec": {
   "display_name": "Python 3 (ipykernel)",
   "language": "python",
   "name": "python3"
  },
  "language_info": {
   "codemirror_mode": {
    "name": "ipython",
    "version": 3
   },
   "file_extension": ".py",
   "mimetype": "text/x-python",
   "name": "python",
   "nbconvert_exporter": "python",
   "pygments_lexer": "ipython3",
   "version": "3.10.7"
  }
 },
 "nbformat": 4,
 "nbformat_minor": 5
}
